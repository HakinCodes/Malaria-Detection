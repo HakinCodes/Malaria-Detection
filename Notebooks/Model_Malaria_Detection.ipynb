{
 "cells": [
  {
   "cell_type": "markdown",
   "metadata": {},
   "source": [
    "# Building Model for MALARIA DETECTION"
   ]
  },
  {
   "cell_type": "markdown",
   "metadata": {},
   "source": [
    "### Lets take a look at how we are gonna make our model \n",
    "\n",
    "#### Step 1:  Loading and Splitting of the Dataset\n",
    "\n",
    "- The first step is to load the data and scaling the images to binary 0 and 1 from Parasitized and Uninfected.\n",
    "- Then we will resize the images to 50 x 50 \n",
    "- After that suffling of the images before train-test-split and converting the images to a single numpy array\n",
    "- Splitting the data \n",
    "- Converting the type of X_train and X_valid to float32\n",
    "- Add then One Hot Encoding on y\n",
    "\n",
    "\n",
    "#### Step 2:  Building the CNN model\n",
    "- The CNN model is one of the efficient nueral networks for images and performing classifications. We will use tf.keras to build the CNN model.\n",
    "- We will build a Sequential CNN model.\n",
    "- We will build a CNN Layer followed by MaxPooling layer which is later followed by BatchNormalisation to normalize the previous layer's output and implement the Dropout regularization. After that we will use Flatten to the outputs. Then the last layer that has function Softmax is the output layer.\n",
    "- Finally we have to compile the CNN model. We will use optimizer called Adam then will apply the loss function as categorical_crossentropy and an evaluation metric as accuracy.\n",
    "- Next step is to use the fit function, to train our convolutional neural network (CNN) with X_train and y_train. Lets set the total amounts of epochs as 25 epochs, which is essentially 25 cycles or iterations of the full dataset including a batch size of 120.\n",
    "\n",
    "####  Step 3 : Predictions and Testing of the Model\n",
    "- After this we will predict and do evaluation on the builded model. \n",
    "- The last step will be to test our model on the HOLDOUT DATASET and making predictions."
   ]
  },
  {
   "cell_type": "markdown",
   "metadata": {},
   "source": [
    "### Importing Libraries"
   ]
  },
  {
   "cell_type": "code",
   "execution_count": 1,
   "metadata": {},
   "outputs": [],
   "source": [
    "# importing the libraries for loading data and visualisation\n",
    "import os\n",
    "import cv2\n",
    "import pandas as pd\n",
    "import numpy as np\n",
    "import matplotlib.pyplot as plt\n",
    "%matplotlib inline \n",
    "from PIL import Image\n",
    "import seaborn as sns\n",
    "\n",
    "# import for train-test-split\n",
    "from sklearn.model_selection import train_test_split\n",
    "\n",
    "# import for One Hot Encoding\n",
    "from keras.utils import to_categorical\n",
    "\n",
    "# importing libraries for Model\n",
    "import tensorflow as tf\n",
    "from tensorflow import keras\n",
    "from tensorflow.keras.models import Sequential\n",
    "from tensorflow.keras.layers import Conv2D, MaxPooling2D\n",
    "from tensorflow.keras.layers import Dense, Flatten, Dropout, BatchNormalization\n",
    "\n",
    "# importing libraries for evaluating the model\n",
    "from sklearn.metrics import accuracy_score\n",
    "from sklearn.metrics import confusion_matrix"
   ]
  },
  {
   "cell_type": "markdown",
   "metadata": {},
   "source": [
    "## Loading Data and Train-Test-Split "
   ]
  },
  {
   "cell_type": "code",
   "execution_count": 2,
   "metadata": {},
   "outputs": [
    {
     "name": "stdout",
     "output_type": "stream",
     "text": [
      "\n",
      "\n",
      "Cells : (27558, 50, 50, 3) and labels : (27558,)\n"
     ]
    }
   ],
   "source": [
    "# loading the data of images and setting their labels\n",
    "data = []\n",
    "labels = []\n",
    "\n",
    "Parasitized = os.listdir(\"../input/cell-images-for-detecting-malaria/cell_images/Parasitized/\")\n",
    "\n",
    "for a in Parasitized:\n",
    "    \n",
    "    try:\n",
    "        image = cv2.imread(\"../input/cell-images-for-detecting-malaria/cell_images/Parasitized/\" + a)\n",
    "        image_from_array = Image.fromarray(image, 'RGB')\n",
    "        size_image = image_from_array.resize((50, 50))\n",
    "        data.append(np.array(size_image))\n",
    "        labels.append(0)\n",
    "    \n",
    "    except AttributeError:\n",
    "        print(\"\")\n",
    "\n",
    "Uninfected = os.listdir(\"../input/cell-images-for-detecting-malaria/cell_images/Uninfected/\")\n",
    "\n",
    "for b in Uninfected:\n",
    "\n",
    "    try:\n",
    "        image = cv2.imread(\"../input/cell-images-for-detecting-malaria/cell_images/Uninfected/\" + b)\n",
    "        image_from_array = Image.fromarray(image, 'RGB')\n",
    "        size_image = image_from_array.resize((50, 50))\n",
    "        data.append(np.array(size_image))\n",
    "        labels.append(1)\n",
    "    \n",
    "    except AttributeError:\n",
    "        print(\"\")\n",
    "\n",
    "# Creating single numpy array of all the images and labels\n",
    "data = np.array(data)\n",
    "labels = np.array(labels)\n",
    "\n",
    "print('Cells : {} and labels : {}'.format(data.shape , labels.shape))\n",
    "\n",
    "# lets shuffle the data and labels before splitting them into training and testing sets\n",
    "n = np.arange(data.shape[0])\n",
    "np.random.shuffle(n)\n",
    "data = data[n]\n",
    "labels = labels[n]"
   ]
  },
  {
   "cell_type": "code",
   "execution_count": 3,
   "metadata": {},
   "outputs": [
    {
     "name": "stdout",
     "output_type": "stream",
     "text": [
      "Train data shape (22046, 50, 50, 3) ,Test data shape (5512, 50, 50, 3) \n"
     ]
    }
   ],
   "source": [
    "### Splitting the dataset into the Training set and Test set\n",
    "\n",
    "X_train, X_valid, y_train, y_valid = train_test_split(data, labels, test_size = 0.2, random_state = 0)\n",
    "\n",
    "print('Train data shape {} ,Test data shape {} '.format(X_train.shape, X_valid.shape))"
   ]
  },
  {
   "cell_type": "code",
   "execution_count": 4,
   "metadata": {},
   "outputs": [],
   "source": [
    "X_train = X_train.astype('float32')  \n",
    "X_valid = X_valid.astype('float32')"
   ]
  },
  {
   "cell_type": "code",
   "execution_count": 5,
   "metadata": {},
   "outputs": [],
   "source": [
    "# One Hot Encoding \n",
    "y_train = to_categorical(y_train)\n",
    "y_valid = to_categorical(y_valid)"
   ]
  },
  {
   "cell_type": "markdown",
   "metadata": {},
   "source": [
    "## Building Model"
   ]
  },
  {
   "cell_type": "code",
   "execution_count": 6,
   "metadata": {},
   "outputs": [],
   "source": [
    "# Defining Model\n",
    "classifier = Sequential()\n",
    "\n",
    "# CNN layers\n",
    "classifier.add(Conv2D(32, kernel_size=(3, 3), input_shape = (50, 50, 3), activation = 'relu'))\n",
    "classifier.add(MaxPooling2D(pool_size = (2, 2)))\n",
    "classifier.add(BatchNormalization(axis = -1))\n",
    "classifier.add(Dropout(0.5))   # Dropout prevents overfitting\n",
    "\n",
    "classifier.add(Conv2D(32, kernel_size=(3, 3), input_shape = (50, 50, 3), activation = 'relu'))\n",
    "classifier.add(MaxPooling2D(pool_size = (2, 2)))\n",
    "classifier.add(BatchNormalization(axis = -1))\n",
    "classifier.add(Dropout(0.5))\n",
    "\n",
    "classifier.add(Flatten())\n",
    "\n",
    "classifier.add(Dense(units=128, activation='relu'))\n",
    "classifier.add(BatchNormalization(axis = -1))\n",
    "classifier.add(Dropout(0.5))\n",
    "\n",
    "classifier.add(Dense(units=2, activation='softmax')) "
   ]
  },
  {
   "cell_type": "code",
   "execution_count": 7,
   "metadata": {},
   "outputs": [],
   "source": [
    "classifier.compile(optimizer = 'adam', loss = 'categorical_crossentropy', metrics = ['accuracy'])"
   ]
  },
  {
   "cell_type": "code",
   "execution_count": 8,
   "metadata": {},
   "outputs": [
    {
     "name": "stdout",
     "output_type": "stream",
     "text": [
      "Epoch 1/25\n",
      "184/184 [==============================] - 32s 172ms/step - loss: 0.7892 - accuracy: 0.6478 - val_loss: 2.0456 - val_accuracy: 0.5178\n",
      "Epoch 2/25\n",
      "184/184 [==============================] - 31s 167ms/step - loss: 0.4795 - accuracy: 0.7776 - val_loss: 1.7683 - val_accuracy: 0.6462\n",
      "Epoch 3/25\n",
      "184/184 [==============================] - 31s 169ms/step - loss: 0.3238 - accuracy: 0.8719 - val_loss: 1.8449 - val_accuracy: 0.6665\n",
      "Epoch 4/25\n",
      "184/184 [==============================] - 36s 195ms/step - loss: 0.2728 - accuracy: 0.8962 - val_loss: 0.6283 - val_accuracy: 0.8373\n",
      "Epoch 5/25\n",
      "184/184 [==============================] - 31s 171ms/step - loss: 0.2443 - accuracy: 0.9065 - val_loss: 0.4135 - val_accuracy: 0.8819\n",
      "Epoch 6/25\n",
      "184/184 [==============================] - 31s 167ms/step - loss: 0.2210 - accuracy: 0.9196 - val_loss: 0.4136 - val_accuracy: 0.8770\n",
      "Epoch 7/25\n",
      "184/184 [==============================] - 32s 174ms/step - loss: 0.2117 - accuracy: 0.9232 - val_loss: 0.3452 - val_accuracy: 0.8977\n",
      "Epoch 8/25\n",
      "184/184 [==============================] - 31s 167ms/step - loss: 0.1948 - accuracy: 0.9306 - val_loss: 0.3848 - val_accuracy: 0.8997\n",
      "Epoch 9/25\n",
      "184/184 [==============================] - 31s 170ms/step - loss: 0.1850 - accuracy: 0.9344 - val_loss: 0.2661 - val_accuracy: 0.9287\n",
      "Epoch 10/25\n",
      "184/184 [==============================] - 30s 164ms/step - loss: 0.1767 - accuracy: 0.9372 - val_loss: 0.3815 - val_accuracy: 0.8852\n",
      "Epoch 11/25\n",
      "184/184 [==============================] - 31s 166ms/step - loss: 0.1679 - accuracy: 0.9421 - val_loss: 0.2954 - val_accuracy: 0.9009\n",
      "Epoch 12/25\n",
      "184/184 [==============================] - 29s 160ms/step - loss: 0.1577 - accuracy: 0.9446 - val_loss: 0.2727 - val_accuracy: 0.9135\n",
      "Epoch 13/25\n",
      "184/184 [==============================] - 31s 168ms/step - loss: 0.1513 - accuracy: 0.9469 - val_loss: 0.2831 - val_accuracy: 0.9236\n",
      "Epoch 14/25\n",
      "184/184 [==============================] - 30s 164ms/step - loss: 0.1479 - accuracy: 0.9488 - val_loss: 0.2654 - val_accuracy: 0.9176\n",
      "Epoch 15/25\n",
      "184/184 [==============================] - 31s 168ms/step - loss: 0.1355 - accuracy: 0.9521 - val_loss: 0.1413 - val_accuracy: 0.9512\n",
      "Epoch 16/25\n",
      "184/184 [==============================] - 30s 164ms/step - loss: 0.1402 - accuracy: 0.9502 - val_loss: 0.1285 - val_accuracy: 0.9550\n",
      "Epoch 17/25\n",
      "184/184 [==============================] - 30s 165ms/step - loss: 0.1354 - accuracy: 0.9532 - val_loss: 0.1658 - val_accuracy: 0.9445\n",
      "Epoch 18/25\n",
      "184/184 [==============================] - 30s 163ms/step - loss: 0.1320 - accuracy: 0.9548 - val_loss: 0.1545 - val_accuracy: 0.9472\n",
      "Epoch 19/25\n",
      "184/184 [==============================] - 31s 167ms/step - loss: 0.1281 - accuracy: 0.9550 - val_loss: 0.1491 - val_accuracy: 0.9483\n",
      "Epoch 20/25\n",
      "184/184 [==============================] - 30s 163ms/step - loss: 0.1302 - accuracy: 0.9541 - val_loss: 0.2571 - val_accuracy: 0.8743\n",
      "Epoch 21/25\n",
      "184/184 [==============================] - 31s 166ms/step - loss: 0.1246 - accuracy: 0.9567 - val_loss: 0.2030 - val_accuracy: 0.9376\n",
      "Epoch 22/25\n",
      "184/184 [==============================] - 30s 164ms/step - loss: 0.1197 - accuracy: 0.9589 - val_loss: 0.1662 - val_accuracy: 0.9448\n",
      "Epoch 23/25\n",
      "184/184 [==============================] - 31s 168ms/step - loss: 0.1159 - accuracy: 0.9596 - val_loss: 0.1483 - val_accuracy: 0.9512\n",
      "Epoch 24/25\n",
      "184/184 [==============================] - 36s 196ms/step - loss: 0.1195 - accuracy: 0.9575 - val_loss: 0.2037 - val_accuracy: 0.9311\n",
      "Epoch 25/25\n",
      "184/184 [==============================] - 31s 166ms/step - loss: 0.1148 - accuracy: 0.9611 - val_loss: 0.1686 - val_accuracy: 0.9523\n"
     ]
    }
   ],
   "source": [
    "history = classifier.fit(X_train, y_train, batch_size=120, epochs=25, verbose=1, validation_data=(X_valid, y_valid))"
   ]
  },
  {
   "cell_type": "code",
   "execution_count": 9,
   "metadata": {},
   "outputs": [
    {
     "name": "stdout",
     "output_type": "stream",
     "text": [
      "173/173 [==============================] - 2s 11ms/step - loss: 0.1686 - accuracy: 0.9523\n",
      "Test_Accuracy: 95.23%\n"
     ]
    }
   ],
   "source": [
    "print(\"Test_Accuracy: {:.2f}%\".format(classifier.evaluate(X_valid, y_valid)[1]*100))"
   ]
  },
  {
   "cell_type": "markdown",
   "metadata": {},
   "source": [
    "## \"The Neural Network gave  Accuracy of 95.23% \""
   ]
  },
  {
   "cell_type": "markdown",
   "metadata": {},
   "source": [
    "-  Summary of the Model"
   ]
  },
  {
   "cell_type": "code",
   "execution_count": 10,
   "metadata": {},
   "outputs": [
    {
     "name": "stdout",
     "output_type": "stream",
     "text": [
      "Model: \"sequential\"\n",
      "_________________________________________________________________\n",
      "Layer (type)                 Output Shape              Param #   \n",
      "=================================================================\n",
      "conv2d (Conv2D)              (None, 48, 48, 32)        896       \n",
      "_________________________________________________________________\n",
      "max_pooling2d (MaxPooling2D) (None, 24, 24, 32)        0         \n",
      "_________________________________________________________________\n",
      "batch_normalization (BatchNo (None, 24, 24, 32)        128       \n",
      "_________________________________________________________________\n",
      "dropout (Dropout)            (None, 24, 24, 32)        0         \n",
      "_________________________________________________________________\n",
      "conv2d_1 (Conv2D)            (None, 22, 22, 32)        9248      \n",
      "_________________________________________________________________\n",
      "max_pooling2d_1 (MaxPooling2 (None, 11, 11, 32)        0         \n",
      "_________________________________________________________________\n",
      "batch_normalization_1 (Batch (None, 11, 11, 32)        128       \n",
      "_________________________________________________________________\n",
      "dropout_1 (Dropout)          (None, 11, 11, 32)        0         \n",
      "_________________________________________________________________\n",
      "flatten (Flatten)            (None, 3872)              0         \n",
      "_________________________________________________________________\n",
      "dense (Dense)                (None, 128)               495744    \n",
      "_________________________________________________________________\n",
      "batch_normalization_2 (Batch (None, 128)               512       \n",
      "_________________________________________________________________\n",
      "dropout_2 (Dropout)          (None, 128)               0         \n",
      "_________________________________________________________________\n",
      "dense_1 (Dense)              (None, 2)                 258       \n",
      "=================================================================\n",
      "Total params: 506,914\n",
      "Trainable params: 506,530\n",
      "Non-trainable params: 384\n",
      "_________________________________________________________________\n"
     ]
    }
   ],
   "source": [
    "classifier.summary()"
   ]
  },
  {
   "cell_type": "markdown",
   "metadata": {},
   "source": [
    "## Prediction, Evaluation and Testing of the Model"
   ]
  },
  {
   "cell_type": "markdown",
   "metadata": {},
   "source": [
    "- Lets do our first prediction using predict and predict X_valid and store in y_pred variable"
   ]
  },
  {
   "cell_type": "code",
   "execution_count": 11,
   "metadata": {},
   "outputs": [],
   "source": [
    "y_pred = classifier.predict(X_valid)"
   ]
  },
  {
   "cell_type": "code",
   "execution_count": 12,
   "metadata": {},
   "outputs": [],
   "source": [
    "# Convert back to categorical values \n",
    "y_pred = np.argmax(y_pred, axis=1)\n",
    "y_valid = np.argmax(y_valid, axis=1)"
   ]
  },
  {
   "cell_type": "code",
   "execution_count": 13,
   "metadata": {},
   "outputs": [
    {
     "name": "stdout",
     "output_type": "stream",
     "text": [
      "Accuracy Score:  0.9522859216255443\n"
     ]
    }
   ],
   "source": [
    "print('Accuracy Score: ', accuracy_score(y_valid, y_pred))"
   ]
  },
  {
   "cell_type": "markdown",
   "metadata": {},
   "source": [
    "- Evaluation of the CNN model by Plotting Confusion Matrix "
   ]
  },
  {
   "cell_type": "code",
   "execution_count": 14,
   "metadata": {},
   "outputs": [
    {
     "data": {
      "text/plain": [
       "<matplotlib.axes._subplots.AxesSubplot at 0x7f645e6e2b10>"
      ]
     },
     "execution_count": 14,
     "metadata": {},
     "output_type": "execute_result"
    },
    {
     "data": {
      "image/png": "[encoded data removed]",
      "text/plain": [
       "<Figure size 432x288 with 2 Axes>"
      ]
     },
     "metadata": {
      "needs_background": "light"
     },
     "output_type": "display_data"
    }
   ],
   "source": [
    "# Plotting the Confusion Matrix\n",
    "conf = confusion_matrix(y_valid, y_pred)\n",
    "sns.heatmap(conf, annot=True)"
   ]
  },
  {
   "cell_type": "markdown",
   "metadata": {},
   "source": [
    "- Testing model on Holdout Dataset"
   ]
  },
  {
   "cell_type": "code",
   "execution_count": 15,
   "metadata": {},
   "outputs": [
    {
     "name": "stdout",
     "output_type": "stream",
     "text": [
      "(200, 50, 50, 3)\n"
     ]
    }
   ],
   "source": [
    "# loading holdout dataset\n",
    "data_new = []\n",
    "\n",
    "holdout_set = os.listdir(\"../input/holdout-dataset-for-malaria/holdout_dataset\")\n",
    "\n",
    "for i in holdout_set:\n",
    "    \n",
    "    try:\n",
    "        image = cv2.imread(\"../input/holdout-dataset-for-malaria/holdout_dataset/\" + i)\n",
    "        image_from_array = Image.fromarray(image, 'RGB')\n",
    "        size_image = image_from_array.resize((50, 50))\n",
    "        data_new.append(np.array(size_image))\n",
    "    \n",
    "    except AttributeError:\n",
    "        print(\"\")\n",
    "\n",
    "# Creating numpy array\n",
    "data_new = np.array(data_new)\n",
    "\n",
    "print(data_new.shape)"
   ]
  },
  {
   "cell_type": "markdown",
   "metadata": {},
   "source": [
    "- Lets see now how our model predicts the Holdout dataset images\n",
    "\n",
    "- Taking example of two images lets first take a look at the images and then predict them using our model and see how our model predicts the images"
   ]
  },
  {
   "cell_type": "code",
   "execution_count": 16,
   "metadata": {},
   "outputs": [
    {
     "data": {
      "text/plain": [
       "<matplotlib.image.AxesImage at 0x7f645e45d990>"
      ]
     },
     "execution_count": 16,
     "metadata": {},
     "output_type": "execute_result"
    },
    {
     "data": {
      "image/png": "[encoded data removed]",
      "text/plain": [
       "<Figure size 432x288 with 1 Axes>"
      ]
     },
     "metadata": {
      "needs_background": "light"
     },
     "output_type": "display_data"
    }
   ],
   "source": [
    "plt.imshow(data_new[10])"
   ]
  },
  {
   "cell_type": "code",
   "execution_count": 17,
   "metadata": {},
   "outputs": [
    {
     "data": {
      "text/plain": [
       "<matplotlib.image.AxesImage at 0x7f645e441e90>"
      ]
     },
     "execution_count": 17,
     "metadata": {},
     "output_type": "execute_result"
    },
    {
     "data": {
      "image/png": "[encoded data removed]",
      "text/plain": [
       "<Figure size 432x288 with 1 Axes>"
      ]
     },
     "metadata": {
      "needs_background": "light"
     },
     "output_type": "display_data"
    }
   ],
   "source": [
    "plt.imshow(data_new[199])"
   ]
  },
  {
   "cell_type": "markdown",
   "metadata": {},
   "source": [
    "- Clearly the first one is Uninfected\n",
    "- And second image is Parasitized\n",
    "- Lets see what our model predicts now"
   ]
  },
  {
   "cell_type": "code",
   "execution_count": 18,
   "metadata": {},
   "outputs": [],
   "source": [
    "data_new = data_new.astype('float32')\n",
    "\n",
    "# prediction\n",
    "pred = classifier.predict(data_new)"
   ]
  },
  {
   "cell_type": "code",
   "execution_count": 19,
   "metadata": {},
   "outputs": [],
   "source": [
    "pred = np.argmax(pred, axis=1)"
   ]
  },
  {
   "cell_type": "code",
   "execution_count": 20,
   "metadata": {},
   "outputs": [
    {
     "data": {
      "text/plain": [
       "1"
      ]
     },
     "execution_count": 20,
     "metadata": {},
     "output_type": "execute_result"
    }
   ],
   "source": [
    "pred[10]"
   ]
  },
  {
   "cell_type": "code",
   "execution_count": 21,
   "metadata": {},
   "outputs": [
    {
     "data": {
      "text/plain": [
       "0"
      ]
     },
     "execution_count": 21,
     "metadata": {},
     "output_type": "execute_result"
    }
   ],
   "source": [
    "pred[199]"
   ]
  },
  {
   "cell_type": "markdown",
   "metadata": {},
   "source": [
    "- The first prediction's output is 1, which means image is Uninfected\n",
    "- Second prediction's output is 0, which means image is Parasitized\n",
    "- So our model predictions are correct.."
   ]
  },
  {
   "cell_type": "markdown",
   "metadata": {},
   "source": [
    "# Data Augmentation"
   ]
  },
  {
   "cell_type": "markdown",
   "metadata": {},
   "source": [
    "### Augmentation of Data"
   ]
  },
  {
   "cell_type": "code",
   "execution_count": 8,
   "metadata": {},
   "outputs": [],
   "source": [
    "from keras.preprocessing.image import ImageDataGenerator\n",
    "\n",
    "train_generator = ImageDataGenerator(rescale = 1/255,\n",
    "                                     zoom_range = 0.3,\n",
    "                                     horizontal_flip = True,\n",
    "                                     rotation_range = 30)\n",
    "\n",
    "test_generator = ImageDataGenerator(rescale = 1/255)\n",
    "\n",
    "train_generator = train_generator.flow(np.array(X_train),\n",
    "                                       y_train,\n",
    "                                       batch_size = 120,\n",
    "                                       shuffle = False)\n",
    "\n",
    "test_generator = test_generator.flow(np.array(X_valid),\n",
    "                                     y_valid,\n",
    "                                     batch_size = 120,\n",
    "                                     shuffle = False)"
   ]
  },
  {
   "cell_type": "markdown",
   "metadata": {},
   "source": [
    "For the training data, we rescaled the pictures by dividing it by 255, zoomed pictures with a variety of 0.3, After that, flipped the pictures horizontally plus rotated them by 30. And for the remaining data, which is validating data, only rescale the pictures. The train_generator and test_generator methods are built with a batch size of 120."
   ]
  },
  {
   "cell_type": "markdown",
   "metadata": {},
   "source": [
    "### Calculating new accuracy"
   ]
  },
  {
   "cell_type": "code",
   "execution_count": 9,
   "metadata": {},
   "outputs": [
    {
     "name": "stdout",
     "output_type": "stream",
     "text": [
      "Epoch 1/25\n",
      "184/183 [==============================] - 39s 213ms/step - loss: 0.7904 - accuracy: 0.6249\n",
      "Epoch 2/25\n",
      "184/183 [==============================] - 39s 211ms/step - loss: 0.5544 - accuracy: 0.7242\n",
      "Epoch 3/25\n",
      "184/183 [==============================] - 37s 200ms/step - loss: 0.3866 - accuracy: 0.8398\n",
      "Epoch 4/25\n",
      "184/183 [==============================] - 38s 208ms/step - loss: 0.3146 - accuracy: 0.8783\n",
      "Epoch 5/25\n",
      "184/183 [==============================] - 42s 228ms/step - loss: 0.2782 - accuracy: 0.8960\n",
      "Epoch 6/25\n",
      "184/183 [==============================] - 37s 201ms/step - loss: 0.2613 - accuracy: 0.9058\n",
      "Epoch 7/25\n",
      "184/183 [==============================] - 38s 204ms/step - loss: 0.2488 - accuracy: 0.9104\n",
      "Epoch 8/25\n",
      "184/183 [==============================] - 38s 204ms/step - loss: 0.2359 - accuracy: 0.9163\n",
      "Epoch 9/25\n",
      "184/183 [==============================] - 37s 200ms/step - loss: 0.2229 - accuracy: 0.9204\n",
      "Epoch 10/25\n",
      "184/183 [==============================] - 37s 204ms/step - loss: 0.2104 - accuracy: 0.9282\n",
      "Epoch 11/25\n",
      "184/183 [==============================] - 37s 201ms/step - loss: 0.2049 - accuracy: 0.9296\n",
      "Epoch 12/25\n",
      "184/183 [==============================] - 37s 201ms/step - loss: 0.2038 - accuracy: 0.9296\n",
      "Epoch 13/25\n",
      "184/183 [==============================] - 38s 206ms/step - loss: 0.1954 - accuracy: 0.9337\n",
      "Epoch 14/25\n",
      "184/183 [==============================] - 37s 199ms/step - loss: 0.1911 - accuracy: 0.9356\n",
      "Epoch 15/25\n",
      "184/183 [==============================] - 37s 203ms/step - loss: 0.1867 - accuracy: 0.9370\n",
      "Epoch 16/25\n",
      "184/183 [==============================] - 37s 203ms/step - loss: 0.1856 - accuracy: 0.9380\n",
      "Epoch 17/25\n",
      "184/183 [==============================] - 37s 202ms/step - loss: 0.1850 - accuracy: 0.9391\n",
      "Epoch 18/25\n",
      "184/183 [==============================] - 37s 202ms/step - loss: 0.1814 - accuracy: 0.9407\n",
      "Epoch 19/25\n",
      "184/183 [==============================] - 37s 200ms/step - loss: 0.1780 - accuracy: 0.9418\n",
      "Epoch 20/25\n",
      "184/183 [==============================] - 37s 203ms/step - loss: 0.1755 - accuracy: 0.9412\n",
      "Epoch 21/25\n",
      "184/183 [==============================] - 43s 234ms/step - loss: 0.1751 - accuracy: 0.9419s -\n",
      "Epoch 22/25\n",
      "184/183 [==============================] - 36s 196ms/step - loss: 0.1765 - accuracy: 0.9434\n",
      "Epoch 23/25\n",
      "184/183 [==============================] - 37s 202ms/step - loss: 0.1734 - accuracy: 0.9428\n",
      "Epoch 24/25\n",
      "184/183 [==============================] - 38s 204ms/step - loss: 0.1719 - accuracy: 0.9435\n",
      "Epoch 25/25\n",
      "184/183 [==============================] - 36s 197ms/step - loss: 0.1719 - accuracy: 0.9442\n",
      "  46/5512 [..............................] - 2s 43ms/step - loss: 0.1596 - accuracy: 0.9490\n",
      "Test_Accuracy(after augmentation): 94.90%\n"
     ]
    }
   ],
   "source": [
    "history = classifier.fit_generator(train_generator,\n",
    "                                   steps_per_epoch = len(X_train)/120,\n",
    "                                   epochs = 25,\n",
    "                                   shuffle = False)\n",
    "                                   \n",
    "print(\"Test_Accuracy(after augmentation): {:.2f}%\".format(classifier.evaluate_generator(test_generator, steps = len(X_valid), verbose = 1)[1]*100))"
   ]
  },
  {
   "cell_type": "markdown",
   "metadata": {},
   "source": [
    "After that, we trained the classifier (the model) by utilizing the fit_generator method and measured that new accuracy."
   ]
  },
  {
   "cell_type": "markdown",
   "metadata": {},
   "source": [
    "### New Accuracy is approximately 95%"
   ]
  }
 ],
 "metadata": {
  "kernelspec": {
   "display_name": "Python 3",
   "language": "python",
   "name": "python3"
  },
  "language_info": {
   "codemirror_mode": {
    "name": "ipython",
    "version": 3
   },
   "file_extension": ".py",
   "mimetype": "text/x-python",
   "name": "python",
   "nbconvert_exporter": "python",
   "pygments_lexer": "ipython3",
   "version": "3.7.6"
  }
 },
 "nbformat": 4,
 "nbformat_minor": 4
}
