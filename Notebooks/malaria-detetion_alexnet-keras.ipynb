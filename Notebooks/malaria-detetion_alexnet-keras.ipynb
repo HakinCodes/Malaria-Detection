{
  "nbformat": 4,
  "nbformat_minor": 0,
  "metadata": {
    "colab": {
      "name": "malaria_keras_v2.ipynb",
      "provenance": [],
      "collapsed_sections": [],
      "toc_visible": true
    },
    "kernelspec": {
      "name": "python3",
      "display_name": "Python 3"
    },
    "accelerator": "GPU"
  },
  "cells": [
    {
      "cell_type": "markdown",
      "metadata": {
        "id": "Y28X1u1TcDyi",
        "colab_type": "text"
      },
      "source": [
        "# Structuring The Dataset"
      ]
    },
    {
      "cell_type": "code",
      "metadata": {
        "id": "cF8zcDDtTV7x",
        "colab_type": "code",
        "colab": {}
      },
      "source": [
        "from PIL import Image\n",
        "import numpy as np\n",
        "import os\n",
        "import cv2\n",
        "import tensorflow as tf\n",
        "from tensorflow import keras\n",
        "import matplotlib.pyplot as plt\n",
        "from tensorflow.keras.preprocessing.image import ImageDataGenerator\n",
        "from tensorflow.keras.layers import Conv2D, BatchNormalization, MaxPooling2D, Flatten, Dense, Dropout\n",
        "from sklearn.metrics import classification_report, confusion_matrix, accuracy_score"
      ],
      "execution_count": null,
      "outputs": []
    },
    {
      "cell_type": "code",
      "metadata": {
        "id": "ZyvQ3OF8VAP8",
        "colab_type": "code",
        "colab": {
          "base_uri": "https://localhost:8080/",
          "height": 51
        },
        "outputId": "97960038-99ef-40f4-8242-a0b03f10a6e5"
      },
      "source": [
        "data=[]\n",
        "\n",
        "parasitized=os.listdir(\"./cell_images/Parasitized/\")\n",
        "for par in parasitized:\n",
        "    try:\n",
        "        image=cv2.imread(\"./cell_images/Parasitized/\" + par)\n",
        "        image_from_array = Image.fromarray(image, 'RGB')\n",
        "        size_image = image_from_array.resize((100, 100))\n",
        "        data.append(np.array(size_image))\n",
        "    except AttributeError:\n",
        "        print(\"Skipped one in parasitized\")\n",
        "\n",
        "uninfected=os.listdir(\"./cell_images/Uninfected/\")\n",
        "for uninfec in uninfected:\n",
        "    try:\n",
        "        image=cv2.imread(\"./cell_images/Uninfected/\" + uninfec)\n",
        "        image_from_array = Image.fromarray(image, 'RGB')\n",
        "        size_image = image_from_array.resize((100, 100))\n",
        "        data.append(np.array(size_image))\n",
        "    except AttributeError:\n",
        "        print(\"Skipped one in uninfected\")\n",
        "\n",
        "labels = np.concatenate((np.zeros(len(parasitized)), np.ones(len(uninfected))), axis=0)\n",
        "\n",
        "cells = np.array(data)"
      ],
      "execution_count": null,
      "outputs": [
        {
          "output_type": "stream",
          "text": [
            "Skipped one in parasitized\n",
            "Skipped one in uninfected\n"
          ],
          "name": "stdout"
        }
      ]
    },
    {
      "cell_type": "code",
      "metadata": {
        "id": "dL5LKtfCZgKD",
        "colab_type": "code",
        "colab": {
          "base_uri": "https://localhost:8080/",
          "height": 85
        },
        "outputId": "c4eb4841-b301-4ed5-d156-9e883dd28777"
      },
      "source": [
        "# verifying lengths\n",
        "print(f'len(parasitized):\\t{len(parasitized)}')\n",
        "print(f'len(uninfected):\\t{len(uninfected)}')\n",
        "print(f'len(cells):\\t\\t{len(cells)}')\n",
        "print(f'len(data):\\t\\t{len(data)}')"
      ],
      "execution_count": null,
      "outputs": [
        {
          "output_type": "stream",
          "text": [
            "len(parasitized):\t13780\n",
            "len(uninfected):\t13780\n",
            "len(cells):\t\t27558\n",
            "len(data):\t\t27558\n"
          ],
          "name": "stdout"
        }
      ]
    },
    {
      "cell_type": "code",
      "metadata": {
        "id": "nG5MuFk3a6rz",
        "colab_type": "code",
        "colab": {}
      },
      "source": [
        "# shuffling data to get ready for split\n",
        "shuffle = np.arange(cells.shape[0])\n",
        "np.random.shuffle(shuffle)\n",
        "cells = cells[shuffle]\n",
        "labels = labels[shuffle]"
      ],
      "execution_count": null,
      "outputs": []
    },
    {
      "cell_type": "code",
      "metadata": {
        "id": "IvnpplW7cAIT",
        "colab_type": "code",
        "colab": {}
      },
      "source": [
        "# splitting data into train, test and validation sets (manually)\n",
        "x_train, x_test, x_val = cells[:25000], cells[25000:27500], cells[27500:]\n",
        "y_train, y_test, y_val = labels[:25000], labels[25000:27500], labels[27500:]"
      ],
      "execution_count": null,
      "outputs": []
    },
    {
      "cell_type": "code",
      "metadata": {
        "id": "Cjja_ozXziyC",
        "colab_type": "code",
        "colab": {
          "base_uri": "https://localhost:8080/",
          "height": 85
        },
        "outputId": "6f84ee4f-d58e-4658-a504-a5017269a5e3"
      },
      "source": [
        "# verifying even distribution of data\n",
        "print(\"\\t0's\\t1's\")\n",
        "print(f'y_train\\t{np.count_nonzero(y_train == 0)}\\t{np.count_nonzero(y_train == 1)}')\n",
        "print(f'y_test\\t{np.count_nonzero(y_test == 0)}\\t{np.count_nonzero(y_test == 1)}')\n",
        "print(f'y_val\\t{np.count_nonzero(y_val == 0)}\\t{np.count_nonzero(y_val == 1)}')"
      ],
      "execution_count": null,
      "outputs": [
        {
          "output_type": "stream",
          "text": [
            "\t0's\t1's\n",
            "y_train\t12530\t12470\n",
            "y_test\t1224\t1276\n",
            "y_val\t26\t32\n"
          ],
          "name": "stdout"
        }
      ]
    },
    {
      "cell_type": "markdown",
      "metadata": {
        "id": "aITmwzsKivO_",
        "colab_type": "text"
      },
      "source": [
        "# Training The Model"
      ]
    },
    {
      "cell_type": "code",
      "metadata": {
        "id": "hV72vfQFrSlh",
        "colab_type": "code",
        "colab": {}
      },
      "source": [
        "# data augmentation to reduce variance\n",
        "datagen = ImageDataGenerator(\n",
        "        rotation_range = 30,    # rotate images in the range 30 degrees\n",
        "        zoom_range = 0.2,       # zoom image\n",
        "        width_shift_range=0.1,  # shift images horizontally (fraction of total width)\n",
        "        height_shift_range=0.1, # shift images vertically (fraction of total height)\n",
        "        horizontal_flip = True, # flip images\n",
        "        )"
      ],
      "execution_count": null,
      "outputs": []
    },
    {
      "cell_type": "code",
      "metadata": {
        "id": "qYwsutQIeoss",
        "colab_type": "code",
        "colab": {
          "base_uri": "https://localhost:8080/",
          "height": 799
        },
        "outputId": "4eb33686-5982-4300-9622-37daed652f4c"
      },
      "source": [
        "# dense layer 1 and 2 have 512 neurons instead of 4096 neurons in the standard AlexNet architecture,\n",
        "# due to low availible input size of images --> 100, 100, 3 (recommended size for AlexNet --> 227, 227, 3)\n",
        "\n",
        "alexnet = tf.keras.models.Sequential([\n",
        "    # convolution 1\n",
        "    Conv2D(96, (11,11),strides=(4,4), activation='relu', input_shape=(100, 100, 3)),\n",
        "    BatchNormalization(),\n",
        "    MaxPooling2D(),\n",
        "    # convolution 2\n",
        "    Conv2D(256, (5,5),strides=(1,1), activation='relu',padding=\"same\"),\n",
        "    BatchNormalization(),\n",
        "    MaxPooling2D(),\n",
        "    # convolution 3\n",
        "    Conv2D(384, (3,3),strides=(1,1), activation='relu',padding=\"same\"),\n",
        "    BatchNormalization(),\n",
        "    # convolution 4\n",
        "    Conv2D(384, (3,3),strides=(1,1), activation='relu',padding=\"same\"),\n",
        "    BatchNormalization(),\n",
        "    # convolution 5\n",
        "    Conv2D(256, (3, 3), strides=(1, 1), activation='relu',padding=\"same\"),\n",
        "    BatchNormalization(),\n",
        "    MaxPooling2D(),\n",
        "    # flattening\n",
        "    Flatten(),\n",
        "    # dense layer 1\n",
        "    Dense(512, activation='relu'),\n",
        "    Dropout(0.5),\n",
        "    # dense layer 2\n",
        "    Dense(512, activation='relu'),\n",
        "    Dropout(0.5),\n",
        "    # output neuron\n",
        "    Dense(1, activation='sigmoid')\n",
        "])\n",
        "\n",
        "alexnet.summary()"
      ],
      "execution_count": null,
      "outputs": [
        {
          "output_type": "stream",
          "text": [
            "Model: \"sequential_1\"\n",
            "_________________________________________________________________\n",
            "Layer (type)                 Output Shape              Param #   \n",
            "=================================================================\n",
            "conv2d_5 (Conv2D)            (None, 23, 23, 96)        34944     \n",
            "_________________________________________________________________\n",
            "batch_normalization_5 (Batch (None, 23, 23, 96)        384       \n",
            "_________________________________________________________________\n",
            "max_pooling2d_3 (MaxPooling2 (None, 11, 11, 96)        0         \n",
            "_________________________________________________________________\n",
            "conv2d_6 (Conv2D)            (None, 11, 11, 256)       614656    \n",
            "_________________________________________________________________\n",
            "batch_normalization_6 (Batch (None, 11, 11, 256)       1024      \n",
            "_________________________________________________________________\n",
            "max_pooling2d_4 (MaxPooling2 (None, 5, 5, 256)         0         \n",
            "_________________________________________________________________\n",
            "conv2d_7 (Conv2D)            (None, 5, 5, 384)         885120    \n",
            "_________________________________________________________________\n",
            "batch_normalization_7 (Batch (None, 5, 5, 384)         1536      \n",
            "_________________________________________________________________\n",
            "conv2d_8 (Conv2D)            (None, 5, 5, 384)         1327488   \n",
            "_________________________________________________________________\n",
            "batch_normalization_8 (Batch (None, 5, 5, 384)         1536      \n",
            "_________________________________________________________________\n",
            "conv2d_9 (Conv2D)            (None, 5, 5, 256)         884992    \n",
            "_________________________________________________________________\n",
            "batch_normalization_9 (Batch (None, 5, 5, 256)         1024      \n",
            "_________________________________________________________________\n",
            "max_pooling2d_5 (MaxPooling2 (None, 2, 2, 256)         0         \n",
            "_________________________________________________________________\n",
            "flatten_1 (Flatten)          (None, 1024)              0         \n",
            "_________________________________________________________________\n",
            "dense_3 (Dense)              (None, 512)               524800    \n",
            "_________________________________________________________________\n",
            "dropout_2 (Dropout)          (None, 512)               0         \n",
            "_________________________________________________________________\n",
            "dense_4 (Dense)              (None, 512)               262656    \n",
            "_________________________________________________________________\n",
            "dropout_3 (Dropout)          (None, 512)               0         \n",
            "_________________________________________________________________\n",
            "dense_5 (Dense)              (None, 1)                 513       \n",
            "=================================================================\n",
            "Total params: 4,540,673\n",
            "Trainable params: 4,537,921\n",
            "Non-trainable params: 2,752\n",
            "_________________________________________________________________\n"
          ],
          "name": "stdout"
        }
      ]
    },
    {
      "cell_type": "code",
      "metadata": {
        "id": "MshHNZrmsqre",
        "colab_type": "code",
        "colab": {}
      },
      "source": [
        "alexnet.compile(\n",
        "    optimizer = 'adam',\n",
        "    loss = 'binary_crossentropy',\n",
        "    metrics = ['accuracy']\n",
        ")"
      ],
      "execution_count": null,
      "outputs": []
    },
    {
      "cell_type": "code",
      "metadata": {
        "id": "Tr8Xno6jsvvr",
        "colab_type": "code",
        "colab": {
          "base_uri": "https://localhost:8080/",
          "height": 425
        },
        "outputId": "db1e963d-1717-425b-a816-3b119897db46"
      },
      "source": [
        "# training the model\n",
        "history = alexnet.fit(\n",
        "    datagen.flow(x_train, y_train, batch_size = 64),\n",
        "    epochs = 12,\n",
        "    validation_data = datagen.flow(x_val, y_val)\n",
        "    )"
      ],
      "execution_count": null,
      "outputs": [
        {
          "output_type": "stream",
          "text": [
            "Epoch 1/12\n",
            "391/391 [==============================] - 62s 159ms/step - loss: 0.7052 - accuracy: 0.6175 - val_loss: 1.1350 - val_accuracy: 0.5517\n",
            "Epoch 2/12\n",
            "391/391 [==============================] - 61s 156ms/step - loss: 0.4609 - accuracy: 0.7909 - val_loss: 0.4103 - val_accuracy: 0.7759\n",
            "Epoch 3/12\n",
            "391/391 [==============================] - 61s 156ms/step - loss: 0.2882 - accuracy: 0.8925 - val_loss: 0.4005 - val_accuracy: 0.8448\n",
            "Epoch 4/12\n",
            "391/391 [==============================] - 61s 156ms/step - loss: 0.2481 - accuracy: 0.9137 - val_loss: 0.4438 - val_accuracy: 0.7241\n",
            "Epoch 5/12\n",
            "391/391 [==============================] - 61s 157ms/step - loss: 0.2203 - accuracy: 0.9253 - val_loss: 0.4566 - val_accuracy: 0.7414\n",
            "Epoch 6/12\n",
            "391/391 [==============================] - 61s 155ms/step - loss: 0.2150 - accuracy: 0.9255 - val_loss: 0.4081 - val_accuracy: 0.8621\n",
            "Epoch 7/12\n",
            "391/391 [==============================] - 60s 153ms/step - loss: 0.2088 - accuracy: 0.9286 - val_loss: 0.3276 - val_accuracy: 0.8793\n",
            "Epoch 8/12\n",
            "391/391 [==============================] - 60s 153ms/step - loss: 0.1943 - accuracy: 0.9352 - val_loss: 0.2158 - val_accuracy: 0.9310\n",
            "Epoch 9/12\n",
            "391/391 [==============================] - 59s 151ms/step - loss: 0.1871 - accuracy: 0.9351 - val_loss: 0.6109 - val_accuracy: 0.5172\n",
            "Epoch 10/12\n",
            "391/391 [==============================] - 58s 149ms/step - loss: 0.1905 - accuracy: 0.9362 - val_loss: 0.2537 - val_accuracy: 0.8966\n",
            "Epoch 11/12\n",
            "391/391 [==============================] - 61s 155ms/step - loss: 0.1864 - accuracy: 0.9383 - val_loss: 0.3441 - val_accuracy: 0.8621\n",
            "Epoch 12/12\n",
            "391/391 [==============================] - 61s 156ms/step - loss: 0.1780 - accuracy: 0.9390 - val_loss: 0.2781 - val_accuracy: 0.9310\n"
          ],
          "name": "stdout"
        }
      ]
    },
    {
      "cell_type": "markdown",
      "metadata": {
        "id": "YyESE5osi8fz",
        "colab_type": "text"
      },
      "source": [
        "# Trends in Training"
      ]
    },
    {
      "cell_type": "code",
      "metadata": {
        "id": "np-QaRhvuqO5",
        "colab_type": "code",
        "colab": {
          "base_uri": "https://localhost:8080/",
          "height": 85
        },
        "outputId": "0faf6551-9783-4d2e-f118-61a823e83965"
      },
      "source": [
        "print(f\"Loss : {alexnet.evaluate(x_test,y_test)[0]}\")\n",
        "print(f\"Accuracy % : {alexnet.evaluate(x_test,y_test)[1]*100}\")"
      ],
      "execution_count": null,
      "outputs": [
        {
          "output_type": "stream",
          "text": [
            "79/79 [==============================] - 0s 5ms/step - loss: 0.2552 - accuracy: 0.9588\n",
            "Loss : 0.25519391894340515\n",
            "79/79 [==============================] - 0s 5ms/step - loss: 0.2552 - accuracy: 0.9588\n",
            "Accuracy % : 95.88000178337097\n"
          ],
          "name": "stdout"
        }
      ]
    },
    {
      "cell_type": "code",
      "metadata": {
        "id": "fLJDdEac4DmX",
        "colab_type": "code",
        "colab": {
          "base_uri": "https://localhost:8080/",
          "height": 295
        },
        "outputId": "88761b9d-6efb-47a0-bed6-0fcb53e7b539"
      },
      "source": [
        "# train and validation loss trends\n",
        "train_loss = history.history['loss']\n",
        "val_loss = history.history['val_loss']\n",
        "epochs = [i for i in range(0, 12)]\n",
        "plt.plot(epochs, train_loss, 'r', label='Train Loss')\n",
        "plt.plot(epochs, val_loss, 'g', label='Validation Loss')\n",
        "plt.title('Train vs Validation Loss Trends')\n",
        "plt.xlabel('Epochs')\n",
        "plt.ylabel('Loss')\n",
        "plt.legend()\n",
        "plt.show()"
      ],
      "execution_count": null,
      "outputs": [
        {
          "output_type": "display_data",
          "data": {
            "image/png": "[encoded data removed]",
            "text/plain": [
              "<Figure size 432x288 with 1 Axes>"
            ]
          },
          "metadata": {
            "tags": [],
            "needs_background": "light"
          }
        }
      ]
    },
    {
      "cell_type": "code",
      "metadata": {
        "id": "aPAZotnt4O56",
        "colab_type": "code",
        "colab": {
          "base_uri": "https://localhost:8080/",
          "height": 295
        },
        "outputId": "4bd3e48d-8bd1-42eb-84d8-328f9675223a"
      },
      "source": [
        "# train and validation Accuracy trends\n",
        "train_accuracy = history.history['accuracy']\n",
        "val_accuracy = history.history['val_accuracy']\n",
        "epochs = [i for i in range(0, 12)]\n",
        "plt.plot(epochs, train_accuracy, 'r', label='Train Accuracy')\n",
        "plt.plot(epochs, val_accuracy, 'g', label='Validation Accuracy')\n",
        "plt.title('Train vs Validation Accuracy Trends')\n",
        "plt.xlabel('Epochs')\n",
        "plt.ylabel('Accuracy')\n",
        "plt.legend()\n",
        "plt.show()"
      ],
      "execution_count": null,
      "outputs": [
        {
          "output_type": "display_data",
          "data": {
            "image/png": "[encoded data removed]",
            "text/plain": [
              "<Figure size 432x288 with 1 Axes>"
            ]
          },
          "metadata": {
            "tags": [],
            "needs_background": "light"
          }
        }
      ]
    },
    {
      "cell_type": "markdown",
      "metadata": {
        "id": "a9PvZO-bjDj3",
        "colab_type": "text"
      },
      "source": [
        "# Results"
      ]
    },
    {
      "cell_type": "markdown",
      "metadata": {
        "id": "pflaVcXHjRbM",
        "colab_type": "text"
      },
      "source": [
        "## Test Set"
      ]
    },
    {
      "cell_type": "code",
      "metadata": {
        "id": "W3olmpWQvMAc",
        "colab_type": "code",
        "colab": {
          "base_uri": "https://localhost:8080/",
          "height": 85
        },
        "outputId": "20c38d46-76b7-4833-ec3a-63ac56ef3777"
      },
      "source": [
        "predictions = alexnet.predict_classes(x_test)\n",
        "predictions = predictions.reshape(1,-1)[0]\n",
        "\n",
        "# confusion matrix\n",
        "print('Confusion Matrix:\\n', confusion_matrix(y_test, predictions), sep='')\n",
        "print(f'Accuracy Score: {accuracy_score(y_test, predictions)*100}%')"
      ],
      "execution_count": null,
      "outputs": [
        {
          "output_type": "stream",
          "text": [
            "Confusion Matrix:\n",
            "[[1156   68]\n",
            " [  35 1241]]\n",
            "Accuracy Score: 95.88%\n"
          ],
          "name": "stdout"
        }
      ]
    },
    {
      "cell_type": "code",
      "metadata": {
        "id": "to0nm06VvSfL",
        "colab_type": "code",
        "colab": {
          "base_uri": "https://localhost:8080/",
          "height": 170
        },
        "outputId": "3e2f74a8-4fa4-44be-8256-f3ec08af449d"
      },
      "source": [
        "# detailed stats on models performance\n",
        "print(classification_report(y_test, predictions, target_names = ['Pneumonia (Class 0)','Normal (Class 1)']))"
      ],
      "execution_count": null,
      "outputs": [
        {
          "output_type": "stream",
          "text": [
            "                     precision    recall  f1-score   support\n",
            "\n",
            "Pneumonia (Class 0)       0.97      0.94      0.96      1224\n",
            "   Normal (Class 1)       0.95      0.97      0.96      1276\n",
            "\n",
            "           accuracy                           0.96      2500\n",
            "          macro avg       0.96      0.96      0.96      2500\n",
            "       weighted avg       0.96      0.96      0.96      2500\n",
            "\n"
          ],
          "name": "stdout"
        }
      ]
    },
    {
      "cell_type": "markdown",
      "metadata": {
        "id": "FrONPt8djVZZ",
        "colab_type": "text"
      },
      "source": [
        "## Train Set"
      ]
    },
    {
      "cell_type": "code",
      "metadata": {
        "id": "1rKTry_HjKHw",
        "colab_type": "code",
        "colab": {
          "base_uri": "https://localhost:8080/",
          "height": 85
        },
        "outputId": "6101a891-aef9-43fb-8799-3a016ee7bc68"
      },
      "source": [
        "predictions = alexnet.predict_classes(x_train)\n",
        "predictions = predictions.reshape(1,-1)[0]\n",
        "\n",
        "# confusion matrix\n",
        "print('Confusion Matrix:\\n', confusion_matrix(y_train, predictions), sep='')\n",
        "print(f'Accuracy Score: {accuracy_score(y_train, predictions)*100}%')"
      ],
      "execution_count": null,
      "outputs": [
        {
          "output_type": "stream",
          "text": [
            "Confusion Matrix:\n",
            "[[11748   782]\n",
            " [  314 12156]]\n",
            "Accuracy Score: 95.616%\n"
          ],
          "name": "stdout"
        }
      ]
    },
    {
      "cell_type": "code",
      "metadata": {
        "id": "wNGKqznNkCZY",
        "colab_type": "code",
        "colab": {
          "base_uri": "https://localhost:8080/",
          "height": 170
        },
        "outputId": "01a9a39f-ce10-488b-a808-73547a670899"
      },
      "source": [
        "# detailed stats on models performance\n",
        "print(classification_report(y_train, predictions, target_names = ['Pneumonia (Class 0)','Normal (Class 1)']))"
      ],
      "execution_count": null,
      "outputs": [
        {
          "output_type": "stream",
          "text": [
            "                     precision    recall  f1-score   support\n",
            "\n",
            "Pneumonia (Class 0)       0.97      0.94      0.96     12530\n",
            "   Normal (Class 1)       0.94      0.97      0.96     12470\n",
            "\n",
            "           accuracy                           0.96     25000\n",
            "          macro avg       0.96      0.96      0.96     25000\n",
            "       weighted avg       0.96      0.96      0.96     25000\n",
            "\n"
          ],
          "name": "stdout"
        }
      ]
    },
    {
      "cell_type": "markdown",
      "metadata": {
        "id": "TQBITldopiun",
        "colab_type": "text"
      },
      "source": [
        "# Saving The Model"
      ]
    },
    {
      "cell_type": "code",
      "metadata": {
        "id": "ETqSDwoEo7Q7",
        "colab_type": "code",
        "colab": {}
      },
      "source": [
        "alexnet.save('./alexnet.h5', save_format='h5')"
      ],
      "execution_count": null,
      "outputs": []
    },
    {
      "cell_type": "code",
      "metadata": {
        "id": "2JbxwdmDsIbX",
        "colab_type": "code",
        "colab": {
          "base_uri": "https://localhost:8080/",
          "height": 799
        },
        "outputId": "6c3e2c84-22df-43fb-fc37-058d04915fdb"
      },
      "source": [
        "# verifying saved model\n",
        "model = tf.keras.models.load_model('./alexnet.h5')\n",
        "model.summary()"
      ],
      "execution_count": null,
      "outputs": [
        {
          "output_type": "stream",
          "text": [
            "Model: \"sequential_1\"\n",
            "_________________________________________________________________\n",
            "Layer (type)                 Output Shape              Param #   \n",
            "=================================================================\n",
            "conv2d_5 (Conv2D)            (None, 23, 23, 96)        34944     \n",
            "_________________________________________________________________\n",
            "batch_normalization_5 (Batch (None, 23, 23, 96)        384       \n",
            "_________________________________________________________________\n",
            "max_pooling2d_3 (MaxPooling2 (None, 11, 11, 96)        0         \n",
            "_________________________________________________________________\n",
            "conv2d_6 (Conv2D)            (None, 11, 11, 256)       614656    \n",
            "_________________________________________________________________\n",
            "batch_normalization_6 (Batch (None, 11, 11, 256)       1024      \n",
            "_________________________________________________________________\n",
            "max_pooling2d_4 (MaxPooling2 (None, 5, 5, 256)         0         \n",
            "_________________________________________________________________\n",
            "conv2d_7 (Conv2D)            (None, 5, 5, 384)         885120    \n",
            "_________________________________________________________________\n",
            "batch_normalization_7 (Batch (None, 5, 5, 384)         1536      \n",
            "_________________________________________________________________\n",
            "conv2d_8 (Conv2D)            (None, 5, 5, 384)         1327488   \n",
            "_________________________________________________________________\n",
            "batch_normalization_8 (Batch (None, 5, 5, 384)         1536      \n",
            "_________________________________________________________________\n",
            "conv2d_9 (Conv2D)            (None, 5, 5, 256)         884992    \n",
            "_________________________________________________________________\n",
            "batch_normalization_9 (Batch (None, 5, 5, 256)         1024      \n",
            "_________________________________________________________________\n",
            "max_pooling2d_5 (MaxPooling2 (None, 2, 2, 256)         0         \n",
            "_________________________________________________________________\n",
            "flatten_1 (Flatten)          (None, 1024)              0         \n",
            "_________________________________________________________________\n",
            "dense_3 (Dense)              (None, 512)               524800    \n",
            "_________________________________________________________________\n",
            "dropout_2 (Dropout)          (None, 512)               0         \n",
            "_________________________________________________________________\n",
            "dense_4 (Dense)              (None, 512)               262656    \n",
            "_________________________________________________________________\n",
            "dropout_3 (Dropout)          (None, 512)               0         \n",
            "_________________________________________________________________\n",
            "dense_5 (Dense)              (None, 1)                 513       \n",
            "=================================================================\n",
            "Total params: 4,540,673\n",
            "Trainable params: 4,537,921\n",
            "Non-trainable params: 2,752\n",
            "_________________________________________________________________\n"
          ],
          "name": "stdout"
        }
      ]
    },
    {
      "cell_type": "code",
      "metadata": {
        "id": "5Cm-f6SSsOoQ",
        "colab_type": "code",
        "colab": {}
      },
      "source": [
        ""
      ],
      "execution_count": null,
      "outputs": []
    }
  ]
}
